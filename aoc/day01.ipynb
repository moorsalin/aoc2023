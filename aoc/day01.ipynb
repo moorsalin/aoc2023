{
 "cells": [
  {
   "cell_type": "code",
   "execution_count": 2,
   "metadata": {},
   "outputs": [],
   "source": [
    "from pathlib import Path\n",
    "\n",
    "def extract_digits_and_sum(p : Path):\n",
    "    sums = 0\n",
    "    with open(p,'r') as f:\n",
    "        lines = f.readlines()\n",
    "    for line in lines:\n",
    "        stripped = [i for i in line if i.isdigit()]\n",
    "        if stripped:\n",
    "            new_num = f\"{stripped[0]}{stripped[-1]}\"\n",
    "            new_num = int(new_num)\n",
    "            sums += new_num\n",
    "    return sums"
   ]
  },
  {
   "cell_type": "code",
   "execution_count": 3,
   "metadata": {},
   "outputs": [
    {
     "data": {
      "text/plain": [
       "142"
      ]
     },
     "execution_count": 3,
     "metadata": {},
     "output_type": "execute_result"
    }
   ],
   "source": [
    "extract_digits_and_sum('ex1.txt')"
   ]
  },
  {
   "cell_type": "code",
   "execution_count": 4,
   "metadata": {},
   "outputs": [
    {
     "data": {
      "text/plain": [
       "53080"
      ]
     },
     "execution_count": 4,
     "metadata": {},
     "output_type": "execute_result"
    }
   ],
   "source": [
    "extract_digits_and_sum('1.txt')"
   ]
  },
  {
   "cell_type": "code",
   "execution_count": 65,
   "metadata": {},
   "outputs": [],
   "source": [
    "def replace_word_with_digit(input:str):\n",
    "    words = {\n",
    "        'one':1,\n",
    "        'two':2,\n",
    "        'three':3,\n",
    "        'four':4,\n",
    "        'five':5,\n",
    "        'six':6,\n",
    "        'seven':7,\n",
    "        'eight':8,\n",
    "        'nine':9,\n",
    "    }\n",
    "    matches = []\n",
    "    for k,_ in words.items():\n",
    "        if k in input:\n",
    "            input.index\n",
    "            match = (k, input.index(k))\n",
    "            matches.append(match)\n",
    "    matches.sort(key=lambda x: x[1])\n",
    "    if matches:\n",
    "        for match,_ in matches:\n",
    "            input = input.replace(match,f\"{words[match]}\",1)\n",
    "\n",
    "    return \"\".join([i for i in input if i.isdigit()])\n",
    "\n",
    "def extract_digits_word_and_sum(p : Path):\n",
    "    sums = 0\n",
    "    with open(p,'r') as f:\n",
    "        lines = f.readlines()\n",
    "    for line in lines:\n",
    "        stripped = replace_word_with_digit(line)\n",
    "        if stripped:\n",
    "            new_num = f\"{stripped[0]}{stripped[-1]}\"\n",
    "            new_num = int(new_num)\n",
    "            sums += new_num\n",
    "    return sums"
   ]
  },
  {
   "cell_type": "code",
   "execution_count": 57,
   "metadata": {},
   "outputs": [
    {
     "data": {
      "text/plain": [
       "'1699'"
      ]
     },
     "execution_count": 57,
     "metadata": {},
     "output_type": "execute_result"
    }
   ],
   "source": [
    "replace_word_with_digit(\"1sixnine9\")"
   ]
  },
  {
   "cell_type": "code",
   "execution_count": 69,
   "metadata": {},
   "outputs": [
    {
     "data": {
      "text/plain": [
       "'1189'"
      ]
     },
     "execution_count": 69,
     "metadata": {},
     "output_type": "execute_result"
    }
   ],
   "source": [
    "replace_word_with_digit(\"1oneoneightwo9\")"
   ]
  },
  {
   "cell_type": "code",
   "execution_count": 58,
   "metadata": {},
   "outputs": [
    {
     "data": {
      "text/plain": [
       "'3475'"
      ]
     },
     "execution_count": 58,
     "metadata": {},
     "output_type": "execute_result"
    }
   ],
   "source": [
    "replace_word_with_digit(\"threeccbdtsrfv4drmvqcbdsix7sevenfiven\")"
   ]
  },
  {
   "cell_type": "code",
   "execution_count": 59,
   "metadata": {},
   "outputs": [
    {
     "data": {
      "text/plain": [
       "281"
      ]
     },
     "execution_count": 59,
     "metadata": {},
     "output_type": "execute_result"
    }
   ],
   "source": [
    "extract_digits_word_and_sum('ex2.txt')"
   ]
  },
  {
   "cell_type": "code",
   "execution_count": 60,
   "metadata": {},
   "outputs": [
    {
     "data": {
      "text/plain": [
       "53267"
      ]
     },
     "execution_count": 60,
     "metadata": {},
     "output_type": "execute_result"
    }
   ],
   "source": [
    "extract_digits_word_and_sum('1.txt')\n"
   ]
  },
  {
   "cell_type": "code",
   "execution_count": 66,
   "metadata": {},
   "outputs": [
    {
     "data": {
      "text/plain": [
       "53273"
      ]
     },
     "execution_count": 66,
     "metadata": {},
     "output_type": "execute_result"
    }
   ],
   "source": [
    "extract_digits_word_and_sum('1.txt')"
   ]
  }
 ],
 "metadata": {
  "kernelspec": {
   "display_name": "jupyter",
   "language": "python",
   "name": "python3"
  },
  "language_info": {
   "codemirror_mode": {
    "name": "ipython",
    "version": 3
   },
   "file_extension": ".py",
   "mimetype": "text/x-python",
   "name": "python",
   "nbconvert_exporter": "python",
   "pygments_lexer": "ipython3",
   "version": "3.11.6"
  }
 },
 "nbformat": 4,
 "nbformat_minor": 2
}
